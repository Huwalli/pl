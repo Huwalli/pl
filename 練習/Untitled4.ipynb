{
 "cells": [
  {
   "cell_type": "code",
   "execution_count": 5,
   "id": "2fe0fb59",
   "metadata": {
    "scrolled": true
   },
   "outputs": [
    {
     "data": {
      "text/html": [
       "<div>\n",
       "<style scoped>\n",
       "    .dataframe tbody tr th:only-of-type {\n",
       "        vertical-align: middle;\n",
       "    }\n",
       "\n",
       "    .dataframe tbody tr th {\n",
       "        vertical-align: top;\n",
       "    }\n",
       "\n",
       "    .dataframe thead th {\n",
       "        text-align: right;\n",
       "    }\n",
       "</style>\n",
       "<table border=\"1\" class=\"dataframe\">\n",
       "  <thead>\n",
       "    <tr style=\"text-align: right;\">\n",
       "      <th></th>\n",
       "      <th>number</th>\n",
       "      <th>phone number</th>\n",
       "      <th>gender</th>\n",
       "      <th>region</th>\n",
       "      <th>last visit</th>\n",
       "      <th>Previous purchase price</th>\n",
       "      <th>Second previous purchase price</th>\n",
       "    </tr>\n",
       "    <tr>\n",
       "      <th>Name</th>\n",
       "      <th></th>\n",
       "      <th></th>\n",
       "      <th></th>\n",
       "      <th></th>\n",
       "      <th></th>\n",
       "      <th></th>\n",
       "      <th></th>\n",
       "    </tr>\n",
       "  </thead>\n",
       "  <tbody>\n",
       "    <tr>\n",
       "      <th>Peng Yufang</th>\n",
       "      <td>146</td>\n",
       "      <td>921869947</td>\n",
       "      <td>female</td>\n",
       "      <td>Hsinchu</td>\n",
       "      <td>2023/3/6</td>\n",
       "      <td>382</td>\n",
       "      <td>267</td>\n",
       "    </tr>\n",
       "    <tr>\n",
       "      <th>Ding Yixin</th>\n",
       "      <td>145</td>\n",
       "      <td>936888540</td>\n",
       "      <td>female</td>\n",
       "      <td>Taoyuan</td>\n",
       "      <td>2023/3/7</td>\n",
       "      <td>297</td>\n",
       "      <td>210</td>\n",
       "    </tr>\n",
       "    <tr>\n",
       "      <th>Zhang Xiaoyun</th>\n",
       "      <td>108</td>\n",
       "      <td>912250417</td>\n",
       "      <td>female</td>\n",
       "      <td>Taoyuan</td>\n",
       "      <td>2023/3/5</td>\n",
       "      <td>735</td>\n",
       "      <td>350</td>\n",
       "    </tr>\n",
       "    <tr>\n",
       "      <th>Zhan Jiawen</th>\n",
       "      <td>140</td>\n",
       "      <td>937781860</td>\n",
       "      <td>Male</td>\n",
       "      <td>Taoyuan</td>\n",
       "      <td>2023/3/4</td>\n",
       "      <td>1680</td>\n",
       "      <td>840</td>\n",
       "    </tr>\n",
       "    <tr>\n",
       "      <th>Chen Meiyun</th>\n",
       "      <td>168</td>\n",
       "      <td>910651625</td>\n",
       "      <td>female</td>\n",
       "      <td>Taoyuan</td>\n",
       "      <td>2023/1/3</td>\n",
       "      <td>1172</td>\n",
       "      <td>717</td>\n",
       "    </tr>\n",
       "  </tbody>\n",
       "</table>\n",
       "</div>"
      ],
      "text/plain": [
       "                number   phone number   gender    region  last visit  \\\n",
       "Name                                                                   \n",
       "Peng Yufang        146      921869947   female   Hsinchu    2023/3/6   \n",
       "Ding Yixin         145      936888540   female   Taoyuan    2023/3/7   \n",
       "Zhang Xiaoyun      108      912250417   female   Taoyuan    2023/3/5   \n",
       "Zhan Jiawen        140      937781860     Male   Taoyuan    2023/3/4   \n",
       "Chen Meiyun        168      910651625   female   Taoyuan    2023/1/3   \n",
       "\n",
       "                Previous purchase price   Second previous purchase price  \n",
       "Name                                                                      \n",
       "Peng Yufang                         382                              267  \n",
       "Ding Yixin                          297                              210  \n",
       "Zhang Xiaoyun                       735                              350  \n",
       "Zhan Jiawen                        1680                              840  \n",
       "Chen Meiyun                        1172                              717  "
      ]
     },
     "execution_count": 5,
     "metadata": {},
     "output_type": "execute_result"
    }
   ],
   "source": [
    "import pandas as pd\n",
    "data = pd.read_csv(\"divina.csv\",index_col=0)\n",
    "data.head()"
   ]
  },
  {
   "cell_type": "code",
   "execution_count": 6,
   "id": "e3754de8",
   "metadata": {},
   "outputs": [
    {
     "name": "stdout",
     "output_type": "stream",
     "text": [
      "資料(資料筆數,欄位數量):  (10, 7)\n",
      "資料中所有欄位名稱:  Index([' number', ' phone number', ' gender', ' region', ' last visit',\n",
      "       ' Previous purchase price', ' Second previous purchase price'],\n",
      "      dtype='object')\n",
      "資料中是否有空值:  False\n"
     ]
    }
   ],
   "source": [
    "print(\"資料(資料筆數,欄位數量): \",data.shape)\n",
    "print(\"資料中所有欄位名稱: \",data.columns)\n",
    "print(\"資料中是否有空值: \",data.empty)"
   ]
  },
  {
   "cell_type": "code",
   "execution_count": 7,
   "id": "9cef1a7f",
   "metadata": {},
   "outputs": [
    {
     "data": {
      "text/plain": [
       "{' 2022/11/27',\n",
       " ' 2022/6/30',\n",
       " ' 2023/1/3',\n",
       " ' 2023/2/25',\n",
       " ' 2023/3/17',\n",
       " ' 2023/3/4',\n",
       " ' 2023/3/5',\n",
       " ' 2023/3/6',\n",
       " ' 2023/3/7',\n",
       " '2023/3/2'}"
      ]
     },
     "execution_count": 7,
     "metadata": {},
     "output_type": "execute_result"
    }
   ],
   "source": [
    "set(data[\" last visit\"])"
   ]
  },
  {
   "cell_type": "code",
   "execution_count": 9,
   "id": "d64b44c7",
   "metadata": {},
   "outputs": [
    {
     "data": {
      "text/plain": [
       "Name\n",
       "Peng Yufang      False\n",
       "Ding Yixin        True\n",
       "Zhang Xiaoyun     True\n",
       "Zhan Jiawen       True\n",
       "Chen Meiyun       True\n",
       "Li Peirong       False\n",
       "Liu Mingzhu       True\n",
       "Luo Yuechun       True\n",
       "Liang Cuiping     True\n",
       "Cai Baixiu       False\n",
       "Name:  region, dtype: bool"
      ]
     },
     "execution_count": 9,
     "metadata": {},
     "output_type": "execute_result"
    }
   ],
   "source": [
    "c1 = (data[\" region\"] == \" Taoyuan\")\n",
    "c1"
   ]
  },
  {
   "cell_type": "code",
   "execution_count": 10,
   "id": "f3a2a1c4",
   "metadata": {},
   "outputs": [
    {
     "data": {
      "text/plain": [
       "7"
      ]
     },
     "execution_count": 10,
     "metadata": {},
     "output_type": "execute_result"
    }
   ],
   "source": [
    "d1 = data[c1]\n",
    "len(d1)"
   ]
  },
  {
   "cell_type": "code",
   "execution_count": null,
   "id": "3282c8fc",
   "metadata": {},
   "outputs": [],
   "source": []
  }
 ],
 "metadata": {
  "kernelspec": {
   "display_name": "Python 3 (ipykernel)",
   "language": "python",
   "name": "python3"
  },
  "language_info": {
   "codemirror_mode": {
    "name": "ipython",
    "version": 3
   },
   "file_extension": ".py",
   "mimetype": "text/x-python",
   "name": "python",
   "nbconvert_exporter": "python",
   "pygments_lexer": "ipython3",
   "version": "3.9.13"
  }
 },
 "nbformat": 4,
 "nbformat_minor": 5
}
