{
 "cells": [
  {
   "cell_type": "code",
   "execution_count": 8,
   "id": "7647aafd",
   "metadata": {},
   "outputs": [],
   "source": [
    "### 發 requests 取得原始碼\n",
    "from bs4 import BeautifulSoup as bs \n",
    "import requests\n",
    "url = \"https://goodinfo.tw/tw/index.asp\"\n",
    "headers = {\n",
    "    \"user-agent\": \"Mozilla/5.0 (Windows NT 10.0; Win64; x64) AppleWebKit/537.36 (KHTML, like Gecko) Chrome/111.0.0.0 Safari/537.36\"\n",
    "}\n",
    "\n",
    "res = requests.get(url , headers = headers)\n",
    "# print(res.text)\n"
   ]
  },
  {
   "cell_type": "code",
   "execution_count": 5,
   "id": "bcd09886",
   "metadata": {},
   "outputs": [
    {
     "ename": "SyntaxError",
     "evalue": "invalid syntax (284590290.py, line 1)",
     "output_type": "error",
     "traceback": [
      "\u001b[1;36m  File \u001b[1;32m\"C:\\Users\\Huwalli\\AppData\\Local\\Temp\\ipykernel_3848\\284590290.py\"\u001b[1;36m, line \u001b[1;32m1\u001b[0m\n\u001b[1;33m    $ git clone https://github.com/linhung0319/google-scholar-crawler.git\u001b[0m\n\u001b[1;37m    ^\u001b[0m\n\u001b[1;31mSyntaxError\u001b[0m\u001b[1;31m:\u001b[0m invalid syntax\n"
     ]
    }
   ],
   "source": []
  },
  {
   "cell_type": "code",
   "execution_count": null,
   "id": "8dac1600",
   "metadata": {},
   "outputs": [],
   "source": []
  }
 ],
 "metadata": {
  "kernelspec": {
   "display_name": "Python 3 (ipykernel)",
   "language": "python",
   "name": "python3"
  },
  "language_info": {
   "codemirror_mode": {
    "name": "ipython",
    "version": 3
   },
   "file_extension": ".py",
   "mimetype": "text/x-python",
   "name": "python",
   "nbconvert_exporter": "python",
   "pygments_lexer": "ipython3",
   "version": "3.9.13"
  }
 },
 "nbformat": 4,
 "nbformat_minor": 5
}
