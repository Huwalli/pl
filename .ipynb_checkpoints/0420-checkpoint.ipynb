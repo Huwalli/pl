{
 "cells": [
  {
   "cell_type": "code",
   "execution_count": 2,
   "id": "55541d5d",
   "metadata": {},
   "outputs": [
    {
     "name": "stdout",
     "output_type": "stream",
     "text": [
      "<Response [200]>\n"
     ]
    }
   ],
   "source": [
    "import requests as req\n",
    "#目標網站\n",
    "url = \"https://www.ptt.cc/bbs/miHoYo/search?q=%E7%A8%AE%E9%96%80\" \n",
    "#請求網站\n",
    "r = req.get(url)\n",
    "#檢查回應。如果是200則成功請求\n",
    "print(r)"
   ]
  },
  {
   "cell_type": "code",
   "execution_count": 3,
   "id": "6ee29634",
   "metadata": {},
   "outputs": [
    {
     "name": "stdout",
     "output_type": "stream",
     "text": [
      "[健檢] 新手推深淵 是種門太強了嗎\n",
      "https://www.ptt.cc/bbs/miHoYo/M.1681895838.A.1A8.html\n",
      "[閒聊] 心海種門角色優化\n",
      "https://www.ptt.cc/bbs/miHoYo/M.1677308886.A.C40.html\n",
      "[原神] 雙種門配隊？\n",
      "https://www.ptt.cc/bbs/miHoYo/M.1676601270.A.4CC.html\n",
      "[原神] 3.4深淵統計 恭迎種門教團\n",
      "https://www.ptt.cc/bbs/miHoYo/M.1675341552.A.80F.html\n"
     ]
    }
   ],
   "source": [
    "import bs4\n",
    "#透過BeautiFul整理且用html.parser解析\n",
    "root = bs4.BeautifulSoup(r.text,\"html.parser\")\n",
    "#找到所有屬性class = \"title\"\n",
    "ment = root.find_all(\"div\",class_=\"title\")\n",
    "#一個一個印出要的資料\n",
    "for title in ment:\n",
    " print(title.a.string)#取得文章標題\n",
    " print(\"https://www.ptt.cc\"+title.a.get(\"href\"))#取得文章連結\n",
    "    \n"
   ]
  },
  {
   "cell_type": "code",
   "execution_count": 7,
   "id": "16d57590",
   "metadata": {},
   "outputs": [
    {
     "name": "stdout",
     "output_type": "stream",
     "text": [
      "標題：[健檢] 新手推深淵 是種門太強了嗎\n",
      "連結：https://www.ptt.cc/bbs/miHoYo/M.1681895838.A.1A8.html\n",
      "\n",
      "標題：[閒聊] 心海種門角色優化\n",
      "連結：https://www.ptt.cc/bbs/miHoYo/M.1677308886.A.C40.html\n",
      "\n",
      "標題：[原神] 雙種門配隊？\n",
      "連結：https://www.ptt.cc/bbs/miHoYo/M.1676601270.A.4CC.html\n",
      "\n",
      "標題：[原神] 3.4深淵統計 恭迎種門教團\n",
      "連結：https://www.ptt.cc/bbs/miHoYo/M.1675341552.A.80F.html\n",
      "\n"
     ]
    }
   ],
   "source": [
    "import json\n",
    "\n",
    "data = []\n",
    "for title in ment:\n",
    "    article = {\n",
    "        'title': title.a.string,\n",
    "        'link': \"https://www.ptt.cc\" + title.a.get(\"href\")\n",
    "    }\n",
    "    data.append(article)\n",
    "\n",
    "# 將資料輸出成 JSON 檔案\n",
    "with open('output.json', 'w', encoding='utf-8') as file:\n",
    "    json.dump(data, file, ensure_ascii=False, indent=4)\n",
    "    \n",
    "# 使用資料\n",
    "for article in data:\n",
    "    title = article['title']\n",
    "    link = article['link']\n",
    "    print(f\"標題：{title}\")\n",
    "    print(f\"連結：{link}\")\n",
    "    print()"
   ]
  },
  {
   "cell_type": "code",
   "execution_count": null,
   "id": "55ea54cd",
   "metadata": {},
   "outputs": [],
   "source": []
  }
 ],
 "metadata": {
  "kernelspec": {
   "display_name": "Python 3 (ipykernel)",
   "language": "python",
   "name": "python3"
  },
  "language_info": {
   "codemirror_mode": {
    "name": "ipython",
    "version": 3
   },
   "file_extension": ".py",
   "mimetype": "text/x-python",
   "name": "python",
   "nbconvert_exporter": "python",
   "pygments_lexer": "ipython3",
   "version": "3.9.13"
  }
 },
 "nbformat": 4,
 "nbformat_minor": 5
}
