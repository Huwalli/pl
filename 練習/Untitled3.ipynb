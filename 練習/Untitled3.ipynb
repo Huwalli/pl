{
 "cells": [
  {
   "cell_type": "code",
   "execution_count": 1,
   "id": "a561c60f",
   "metadata": {},
   "outputs": [],
   "source": [
    "import json"
   ]
  },
  {
   "cell_type": "code",
   "execution_count": 3,
   "id": "ecdfa929",
   "metadata": {
    "scrolled": true
   },
   "outputs": [],
   "source": [
    "n = open(\"school.json\", encoding=\"utf-8\")##打開資料，並調整編成碼"
   ]
  },
  {
   "cell_type": "code",
   "execution_count": 4,
   "id": "d93d05af",
   "metadata": {},
   "outputs": [],
   "source": [
    "school = json.load(n)##json轉dict並命名"
   ]
  },
  {
   "cell_type": "code",
   "execution_count": 5,
   "id": "17a2c668",
   "metadata": {},
   "outputs": [
    {
     "data": {
      "text/plain": [
       "dict"
      ]
     },
     "execution_count": 5,
     "metadata": {},
     "output_type": "execute_result"
    }
   ],
   "source": [
    "type(school)##確認資料型態\n"
   ]
  },
  {
   "cell_type": "code",
   "execution_count": 7,
   "id": "023957ab",
   "metadata": {},
   "outputs": [],
   "source": [
    "data = school.get(\"學校\")"
   ]
  },
  {
   "cell_type": "code",
   "execution_count": 8,
   "id": "d5065538",
   "metadata": {},
   "outputs": [
    {
     "data": {
      "text/plain": [
       "list"
      ]
     },
     "execution_count": 8,
     "metadata": {},
     "output_type": "execute_result"
    }
   ],
   "source": [
    "type(data) ##發現層層包起(;Д;)"
   ]
  },
  {
   "cell_type": "code",
   "execution_count": 9,
   "id": "4e914528",
   "metadata": {},
   "outputs": [
    {
     "name": "stdout",
     "output_type": "stream",
     "text": [
      "輸入師大或實踐師大\n",
      "輸入課程性質大一必修\n",
      "輸入學校: 師大\n",
      "輸入課程性質: 大一必修\n"
     ]
    }
   ],
   "source": [
    "# 輸入變數\n",
    "sch = input(\"輸入師大或實踐\")\n",
    "sub = input(\"輸入課程性質\")\n",
    "print(\"輸入學校:\",sch)\n",
    "print(\"輸入課程性質:\",sub)\n"
   ]
  },
  {
   "cell_type": "code",
   "execution_count": 10,
   "id": "6017efe1",
   "metadata": {},
   "outputs": [
    {
     "name": "stdout",
     "output_type": "stream",
     "text": [
      "課程名稱： 電腦影像處理 完成時間： 110上\n",
      "課程名稱： 計算機概論 完成時間： None\n",
      "課程名稱： 人力資源發展概論 完成時間： None\n",
      "課程名稱： 基本設計 完成時間： None\n",
      "課程名稱： 電子電路 完成時間： None\n",
      "課程名稱： 人力資源管理 完成時間： None\n"
     ]
    }
   ],
   "source": [
    "# 設定計數器數值\n",
    "schlist = [\"師大\",\"實踐\"]\n",
    "sublist = ['校共同必修','通識','大一必修','大二必修','大三必修','大四必修','大一系選修','大二系選修','大三系選修','大四系選修','特色課程']\n",
    "n = 0 #在第一層迴圈的計數器\n",
    "r = 0 #在第二層迴圈的計數器\n",
    "p = 0 #在第三層迴圈的計數器\n",
    "\n",
    "# 測試迴圈邏輯正確\n",
    "for i in schlist:\n",
    "    if sch == schlist[n]:\n",
    "        for u in sublist:\n",
    "            if sub == sublist[r]:\n",
    "                for o in data[n].get(schlist[n])[r].get(sublist[r]):\n",
    "                    # print(data[n].get(schlist[n])[r].get(sublist[r])[p].get('完成時間'))\n",
    "                    time = data[n].get(schlist[n])[r].get(sublist[r])[p].get('完成時間')\n",
    "                    lesson = data[n].get(schlist[n])[r].get(sublist[r])[p].get('課程名稱')\n",
    "                    print(\"課程名稱：\",lesson,\"完成時間：\",time)\n",
    "                    p = p + 1\n",
    "                r = r + 1\n",
    "            else:\n",
    "                r = r + 1\n",
    "        n = n + 1\n",
    "    else:\n",
    "        n = n + 1"
   ]
  },
  {
   "cell_type": "code",
   "execution_count": 11,
   "id": "ca6cef1b",
   "metadata": {},
   "outputs": [
    {
     "name": "stdout",
     "output_type": "stream",
     "text": [
      "輸入師大或實踐實踐\n",
      "輸入課程性質大一必修\n",
      "輸入學校: 實踐\n",
      "輸入課程性質: 大一必修\n"
     ]
    }
   ],
   "source": [
    "# 輸入變數\n",
    "sch = input(\"輸入師大或實踐\")\n",
    "sub = input(\"輸入課程性質\")\n",
    "print(\"輸入學校:\",sch)\n",
    "print(\"輸入課程性質:\",sub)"
   ]
  },
  {
   "cell_type": "code",
   "execution_count": 12,
   "id": "97b3c3fd",
   "metadata": {},
   "outputs": [],
   "source": [
    "# 定義 lesson(學校,課程性質)則印出課程名稱\n",
    "def lesson(sch,sub):\n",
    "    n = 0 #在第一層迴圈的計數器\n",
    "    r = 0 #在第二層迴圈的計數器\n",
    "    p = 0 #在第三層迴圈的計數器\n",
    "    for i in schlist:\n",
    "        if sch == schlist[n]:\n",
    "            for u in sublist:\n",
    "                if sub == sublist[r]:\n",
    "                # print(data[n].get(schlist[n])[r].get(sublist[r])) #測試\n",
    "                    for o in data[n].get(schlist[n])[r].get(sublist[r]):\n",
    "                        #rint(data[n].get(schlist[n])[r].get(sublist[r])[p].get('課程名稱')) #測試\n",
    "                        lesson = data[n].get(schlist[n])[r].get(sublist[r])[p].get('課程名稱')\n",
    "                        p = p + 1\n",
    "                        print(\"課程名稱：\",lesson)\n",
    "                    r = r + 1\n",
    "                else:\n",
    "                    r = r + 1\n",
    "            n = n + 1\n",
    "        else:\n",
    "            n = n + 1\n",
    "            "
   ]
  },
  {
   "cell_type": "code",
   "execution_count": 13,
   "id": "a7ed16b1",
   "metadata": {},
   "outputs": [
    {
     "name": "stdout",
     "output_type": "stream",
     "text": [
      "課程名稱： 設計概論(一)\n",
      "課程名稱： 創作基礎(一)\n",
      "課程名稱： 設計概論(二)\n",
      "課程名稱： 創作基礎(二)\n",
      "課程名稱： 設計繪畫(一)\n",
      "課程名稱： 視覺心理學\n",
      "課程名稱： 設計繪畫(二)\n",
      "課程名稱： 3D電腦繪圖\n"
     ]
    }
   ],
   "source": [
    "lesson(sch,sub) "
   ]
  },
  {
   "cell_type": "code",
   "execution_count": 14,
   "id": "702f46de",
   "metadata": {},
   "outputs": [
    {
     "name": "stdout",
     "output_type": "stream",
     "text": [
      "課程名稱： 電腦影像處理 學分數： 3\n",
      "課程名稱： 計算機概論 學分數： 3\n",
      "課程名稱： 人力資源發展概論 學分數： 3\n",
      "課程名稱： 基本設計 學分數： 3\n",
      "課程名稱： 電子電路 學分數： 3\n",
      "課程名稱： 人力資源管理 學分數： 3\n",
      "18\n"
     ]
    }
   ],
   "source": [
    "#做學分排序\n",
    "sch = \"師大\"\n",
    "sub = \"大一必修\"\n",
    "allsub = []\n",
    "n = 0 #在第一層迴圈的計數器\n",
    "r = 0 #在第二層迴圈的計數器\n",
    "p = 0 #在第三層迴圈的計數器\n",
    "for i in schlist:\n",
    "    if sch == schlist[n]:\n",
    "        for u in sublist:\n",
    "            if sub == sublist[r]:\n",
    "                for o in data[n].get(schlist[n])[r].get(sublist[r]):\n",
    "                    # print(data[n].get(schlist[n])[r].get(sublist[r])[p].get('完成時間'))\n",
    "                    time = data[n].get(schlist[n])[r].get(sublist[r])[p].get('學分數')\n",
    "                    lesson = data[n].get(schlist[n])[r].get(sublist[r])[p].get('課程名稱')\n",
    "                    allsub.append(time)\n",
    "                    print(\"課程名稱：\",lesson,\"學分數：\",time)\n",
    "                    p = p + 1\n",
    "                r = r + 1\n",
    "            else:\n",
    "                r = r + 1\n",
    "        n = n + 1\n",
    "    else:\n",
    "        n = n + 1\n",
    "print(sum(allsub))\n",
    "\n",
    "\n"
   ]
  },
  {
   "cell_type": "code",
   "execution_count": 15,
   "id": "b4e9a636",
   "metadata": {},
   "outputs": [],
   "source": [
    "schlist = [\"師大\",\"實踐\"]\n",
    "sublist = ['校共同必修','通識','大一必修','大二必修','大三必修','大四必修','大一系選修','大二系選修','大三系選修','大四系選修','特色課程']"
   ]
  },
  {
   "cell_type": "code",
   "execution_count": 16,
   "id": "71992dfa",
   "metadata": {},
   "outputs": [
    {
     "data": {
      "text/plain": [
       "{'課程名稱': '中文閱讀與思辯', '完成時間': '110上', '學分數': 2}"
      ]
     },
     "execution_count": 16,
     "metadata": {},
     "output_type": "execute_result"
    }
   ],
   "source": [
    "data[0].get(\"師大\")[0].get(\"校共同必修\")[0]"
   ]
  },
  {
   "cell_type": "code",
   "execution_count": 17,
   "id": "466a7de1",
   "metadata": {},
   "outputs": [
    {
     "ename": "TypeError",
     "evalue": "'NoneType' object is not subscriptable",
     "output_type": "error",
     "traceback": [
      "\u001b[1;31m---------------------------------------------------------------------------\u001b[0m",
      "\u001b[1;31mTypeError\u001b[0m                                 Traceback (most recent call last)",
      "\u001b[1;32m~\\AppData\\Local\\Temp\\ipykernel_7608\\2267864580.py\u001b[0m in \u001b[0;36m<module>\u001b[1;34m\u001b[0m\n\u001b[0;32m      5\u001b[0m \u001b[1;32mfor\u001b[0m \u001b[0mr\u001b[0m \u001b[1;32min\u001b[0m \u001b[0msublist\u001b[0m\u001b[1;33m:\u001b[0m\u001b[1;33m\u001b[0m\u001b[1;33m\u001b[0m\u001b[0m\n\u001b[0;32m      6\u001b[0m     \u001b[0mallsub\u001b[0m \u001b[1;33m=\u001b[0m \u001b[1;33m[\u001b[0m\u001b[1;33m]\u001b[0m\u001b[1;33m\u001b[0m\u001b[1;33m\u001b[0m\u001b[0m\n\u001b[1;32m----> 7\u001b[1;33m     \u001b[1;32mfor\u001b[0m \u001b[0mu\u001b[0m \u001b[1;32min\u001b[0m \u001b[0mdata\u001b[0m\u001b[1;33m[\u001b[0m\u001b[1;36m0\u001b[0m\u001b[1;33m]\u001b[0m\u001b[1;33m.\u001b[0m\u001b[0mget\u001b[0m\u001b[1;33m(\u001b[0m\u001b[0mi\u001b[0m\u001b[1;33m)\u001b[0m\u001b[1;33m[\u001b[0m\u001b[0mv\u001b[0m\u001b[1;33m]\u001b[0m\u001b[1;33m.\u001b[0m\u001b[0mget\u001b[0m\u001b[1;33m(\u001b[0m\u001b[0mr\u001b[0m\u001b[1;33m)\u001b[0m\u001b[1;33m:\u001b[0m\u001b[1;33m\u001b[0m\u001b[1;33m\u001b[0m\u001b[0m\n\u001b[0m\u001b[0;32m      8\u001b[0m         \u001b[0msubject\u001b[0m \u001b[1;33m=\u001b[0m \u001b[0mu\u001b[0m\u001b[1;33m.\u001b[0m\u001b[0mget\u001b[0m\u001b[1;33m(\u001b[0m\u001b[1;34m\"學分數\"\u001b[0m\u001b[1;33m)\u001b[0m\u001b[1;33m\u001b[0m\u001b[1;33m\u001b[0m\u001b[0m\n\u001b[0;32m      9\u001b[0m         \u001b[0mallsub\u001b[0m\u001b[1;33m.\u001b[0m\u001b[0mappend\u001b[0m\u001b[1;33m(\u001b[0m\u001b[0msubject\u001b[0m\u001b[1;33m)\u001b[0m\u001b[1;33m\u001b[0m\u001b[1;33m\u001b[0m\u001b[0m\n",
      "\u001b[1;31mTypeError\u001b[0m: 'NoneType' object is not subscriptable"
     ]
    }
   ],
   "source": [
    "n = 0\n",
    "v = 0\n",
    "x = 0\n",
    "totalsub = []#裝各個性質的學分數\n",
    "for r in sublist:\n",
    "    allsub = []\n",
    "    for u in data[0].get(i)[v].get(r):\n",
    "        subject = u.get(\"學分數\")\n",
    "        allsub.append(subject)\n",
    "        #data[n].get(i)[v].get(r)\n",
    "        #print(subject)確認資料是否正確的測試劑\n",
    "    v = v + 1 \n",
    "    print(sum(allsub))\n",
    "    totalsub.append(sum(allsub))\n",
    "print(totalsub)"
   ]
  },
  {
   "cell_type": "code",
   "execution_count": 18,
   "id": "adb66036",
   "metadata": {},
   "outputs": [
    {
     "name": "stdout",
     "output_type": "stream",
     "text": [
      "[]\n"
     ]
    }
   ],
   "source": [
    "print(totalsub)##確認所有性質的課程學分數以相加"
   ]
  },
  {
   "cell_type": "code",
   "execution_count": null,
   "id": "115d700c",
   "metadata": {},
   "outputs": [],
   "source": []
  }
 ],
 "metadata": {
  "kernelspec": {
   "display_name": "Python 3 (ipykernel)",
   "language": "python",
   "name": "python3"
  },
  "language_info": {
   "codemirror_mode": {
    "name": "ipython",
    "version": 3
   },
   "file_extension": ".py",
   "mimetype": "text/x-python",
   "name": "python",
   "nbconvert_exporter": "python",
   "pygments_lexer": "ipython3",
   "version": "3.9.13"
  }
 },
 "nbformat": 4,
 "nbformat_minor": 5
}
