{
 "cells": [
  {
   "cell_type": "code",
   "execution_count": 2,
   "id": "f9fba1d8",
   "metadata": {},
   "outputs": [
    {
     "name": "stdout",
     "output_type": "stream",
     "text": [
      "['要求見俄州長換俘破局 親烏俄國戰士稱俘獲俄軍送往烏克蘭', '反攻登場？俄方稱烏軍在前線多處發起攻擊', '關閉7年！伊朗將重開駐沙烏地阿拉伯大使館', '對抗俄國假消息 歐盟要求谷歌、臉書標注AI生成內容', '德國印尼同意加強國防合作 計畫進行聯合軍事演習', '聯合國報告：柬埔寨漸成東南亞製毒基地之一', '義大利外交部長再次重申支持台海維持現狀', '印度比哈省恆河大橋兩度崩塌 官員坦言設計有問題', '才沒那麼容易被AI取代？ChatGPT與新聞業的相愛相殺', '熱浪來襲燃料短缺 孟加拉大停電恐再持續2週', '日本最長壽地區在神奈川 專家指「兩原因」讓居民活得好健康', '信號錯誤釀印度火車巨災 全國僅2鐵路線裝防撞系統', '影／等7年終復仇！妻曾遭婦產科醫師性侵 老公衝上台怒打巴掌', '假Uber司機隨機誘騙獨行女子！車內備妥「性侵工具包」 多名妹子遭硬上', '驚！外公骨灰龕竟壓着神秘女子照片 家人毛骨悚然 心寒原因惹議', '家族隱藏60年秘密！女子驗DNA意外發現多了個哥哥 結局超感人', '比男人還壯！日爆紅「肌肉女子」主題酒吧 花220元享特別服務', '越南分區停電 鴻海、三星工廠所在地受影響', '債限之爭落幕 美元彈升走勢後繼還有力嗎？', 'WWDC在即蘋果破盤中新高 標普逼近牛市', '土耳其5月通膨率降至40％以下 16個月來首次', '減少對亞洲依賴！法國將為意法、格芯的新廠提供31億美元補貼', '北約秘書長潛在人選 丹麥總理佛瑞德里克森訪白宮', '侵犯華府空域飛機「墜毀山區」！機上4人無人生還 F-16升空音爆嚇壞民眾', '防乘客落軌 紐約地鐵時報廣場等3站 試裝安全門', '愈來愈多華人繞千哩路 經中美洲盼入美 「中國人現象」成趨勢', 'WSJ：美政府本月將提議強制大銀行資本需求額提高20%']\n"
     ]
    }
   ],
   "source": [
    "import requests\n",
    "from bs4 import BeautifulSoup\n",
    "\n",
    "web = requests.get(\"https://udn.com/news/cate/2/7225\")\n",
    "content = BeautifulSoup(web.text, \"html.parser\")\n",
    "allTitle = content.select(\".story-list__text h2\")\n",
    "title_list = []\n",
    "\n",
    "for i in allTitle[3:]:\n",
    "    title_list.append(i.text[1:-1])\n",
    "\n",
    "print(title_list)\n"
   ]
  },
  {
   "cell_type": "code",
   "execution_count": 3,
   "id": "9f4423e7",
   "metadata": {},
   "outputs": [
    {
     "data": {
      "text/plain": [
       "'[\"要求見俄州長換俘破局 親烏俄國戰士稱俘獲俄軍送往烏克蘭\", \"反攻登場？俄方稱烏軍在前線多處發起攻擊\", \"關閉7年！伊朗將重開駐沙烏地阿拉伯大使館\", \"對抗俄國假消息 歐盟要求谷歌、臉書標注AI生成內容\", \"德國印尼同意加強國防合作 計畫進行聯合軍事演習\", \"聯合國報告：柬埔寨漸成東南亞製毒基地之一\", \"義大利外交部長再次重申支持台海維持現狀\", \"印度比哈省恆河大橋兩度崩塌 官員坦言設計有問題\", \"才沒那麼容易被AI取代？ChatGPT與新聞業的相愛相殺\", \"熱浪來襲燃料短缺 孟加拉大停電恐再持續2週\", \"日本最長壽地區在神奈川 專家指「兩原因」讓居民活得好健康\", \"信號錯誤釀印度火車巨災 全國僅2鐵路線裝防撞系統\", \"影／等7年終復仇！妻曾遭婦產科醫師性侵 老公衝上台怒打巴掌\", \"假Uber司機隨機誘騙獨行女子！車內備妥「性侵工具包」 多名妹子遭硬上\", \"驚！外公骨灰龕竟壓着神秘女子照片 家人毛骨悚然 心寒原因惹議\", \"家族隱藏60年秘密！女子驗DNA意外發現多了個哥哥 結局超感人\", \"比男人還壯！日爆紅「肌肉女子」主題酒吧 花220元享特別服務\", \"越南分區停電 鴻海、三星工廠所在地受影響\", \"債限之爭落幕 美元彈升走勢後繼還有力嗎？\", \"WWDC在即蘋果破盤中新高 標普逼近牛市\", \"土耳其5月通膨率降至40％以下 16個月來首次\", \"減少對亞洲依賴！法國將為意法、格芯的新廠提供31億美元補貼\", \"北約秘書長潛在人選 丹麥總理佛瑞德里克森訪白宮\", \"侵犯華府空域飛機「墜毀山區」！機上4人無人生還 F-16升空音爆嚇壞民眾\", \"防乘客落軌 紐約地鐵時報廣場等3站 試裝安全門\", \"愈來愈多華人繞千哩路 經中美洲盼入美 「中國人現象」成趨勢\", \"WSJ：美政府本月將提議強制大銀行資本需求額提高20%\"]'"
      ]
     },
     "execution_count": 3,
     "metadata": {},
     "output_type": "execute_result"
    }
   ],
   "source": [
    "import json\n",
    "\n",
    "output = []  # 用來存放每篇文章的標題\n",
    "for i in allTitle[3:]:\n",
    "    output.append(i.a.string)\n",
    "\n",
    "# 將結果轉成JSON格式\n",
    "json_output = json.dumps(output, ensure_ascii=False)\n",
    "\n",
    "# 寫入檔案\n",
    "with open('output.json', 'w', encoding='utf-8') as f:\n",
    "    f.write(json_output)\n",
    "    \n",
    "json_output"
   ]
  },
  {
   "cell_type": "code",
   "execution_count": 4,
   "id": "1cb341fd",
   "metadata": {},
   "outputs": [
    {
     "ename": "NameError",
     "evalue": "name 'jieba' is not defined",
     "output_type": "error",
     "traceback": [
      "\u001b[1;31m---------------------------------------------------------------------------\u001b[0m",
      "\u001b[1;31mNameError\u001b[0m                                 Traceback (most recent call last)",
      "\u001b[1;32m~\\AppData\\Local\\Temp\\ipykernel_28380\\2853036799.py\u001b[0m in \u001b[0;36m<module>\u001b[1;34m\u001b[0m\n\u001b[0;32m      6\u001b[0m \u001b[1;33m\u001b[0m\u001b[0m\n\u001b[0;32m      7\u001b[0m \u001b[1;31m# 中文分詞\u001b[0m\u001b[1;33m\u001b[0m\u001b[1;33m\u001b[0m\u001b[0m\n\u001b[1;32m----> 8\u001b[1;33m \u001b[0mseg_list\u001b[0m \u001b[1;33m=\u001b[0m \u001b[0mjieba\u001b[0m\u001b[1;33m.\u001b[0m\u001b[0mcut\u001b[0m\u001b[1;33m(\u001b[0m\u001b[0mtext\u001b[0m\u001b[1;33m,\u001b[0m \u001b[0mcut_all\u001b[0m\u001b[1;33m=\u001b[0m\u001b[1;32mFalse\u001b[0m\u001b[1;33m)\u001b[0m\u001b[1;33m\u001b[0m\u001b[1;33m\u001b[0m\u001b[0m\n\u001b[0m\u001b[0;32m      9\u001b[0m \u001b[0mseg_list\u001b[0m \u001b[1;33m=\u001b[0m \u001b[0mlist\u001b[0m\u001b[1;33m(\u001b[0m\u001b[0mseg_list\u001b[0m\u001b[1;33m)\u001b[0m\u001b[1;33m\u001b[0m\u001b[1;33m\u001b[0m\u001b[0m\n\u001b[0;32m     10\u001b[0m \u001b[1;33m\u001b[0m\u001b[0m\n",
      "\u001b[1;31mNameError\u001b[0m: name 'jieba' is not defined"
     ]
    }
   ],
   "source": [
    "from wordcloud import WordCloud\n",
    "import matplotlib.pyplot as plt\n",
    "\n",
    "# 將標題列表轉換為文字串接\n",
    "text = ' '.join(title_list)\n",
    "\n",
    "# 中文分詞\n",
    "seg_list = jieba.cut(text, cut_all=False)\n",
    "seg_list = list(seg_list)\n",
    "\n",
    "# 設定字體路徑\n",
    "font_path = 'C:/Windows/Fonts/msjh.ttc'\n",
    "\n",
    "\n",
    "# 使用 WordCloud 產生文字雲\n",
    "wordcloud = WordCloud(background_color='white', width=800, height=600, font_path='msjh.ttc', max_words=100, max_font_size=100).generate(text)\n",
    "\n",
    "# 顯示文字雲\n",
    "plt.imshow(wordcloud, interpolation='bilinear')\n",
    "plt.axis('off')\n",
    "plt.show()\n"
   ]
  },
  {
   "cell_type": "code",
   "execution_count": null,
   "id": "90bc5b4c",
   "metadata": {},
   "outputs": [],
   "source": []
  },
  {
   "cell_type": "code",
   "execution_count": null,
   "id": "82f92c12",
   "metadata": {},
   "outputs": [],
   "source": []
  }
 ],
 "metadata": {
  "kernelspec": {
   "display_name": "Python 3 (ipykernel)",
   "language": "python",
   "name": "python3"
  },
  "language_info": {
   "codemirror_mode": {
    "name": "ipython",
    "version": 3
   },
   "file_extension": ".py",
   "mimetype": "text/x-python",
   "name": "python",
   "nbconvert_exporter": "python",
   "pygments_lexer": "ipython3",
   "version": "3.9.13"
  }
 },
 "nbformat": 4,
 "nbformat_minor": 5
}
