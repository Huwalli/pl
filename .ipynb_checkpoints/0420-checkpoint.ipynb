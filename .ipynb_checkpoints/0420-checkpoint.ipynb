{
 "cells": [
  {
   "cell_type": "code",
   "execution_count": null,
   "id": "0c8c6eb8",
   "metadata": {},
   "outputs": [],
   "source": [
    "import requests\n",
    "from datetime import datetime\n",
    "# import sqlite3 # fot sqlute database support\n",
    "from bs4 import BeautifulSoup"
   ]
  },
  {
   "cell_type": "code",
   "execution_count": null,
   "id": "561b874e",
   "metadata": {},
   "outputs": [],
   "source": [
    "class Crawler:\n",
    "    pttUrl = \"https://www.ptt.cc\"\n",
    "\n",
    "    def __init__(self, board):\n",
    "        self.board = board\n",
    "        self.Articles = []\n",
    "        self.boardUrl = \"/bbs/{}\".format(board)\n",
    "        self.contents = []\n",
    "#         request = requests.get(Crawler.pttUrl + self.boardUrl, cookies = {\"over18\": \"1\"})\n",
    "#         if request.status_code == 404:\n",
    "#             print(\"No such board\")\n",
    "#             return\n",
    "#         pageText = crawler.pageText.split(\"r-list-sep\")[0]\n",
    "#         self.pageText = request.text\n",
    "        \n",
    "    def getToday(self, date=None, pageNext=None, keyword=None, num_posts=100):\n",
    "        if pageNext == None:\n",
    "            pageNext = self.boardUrl\n",
    "        request = requests.get(Crawler.pttUrl + pageNext, cookies = {\"over18\": \"1\"})\n",
    "        if request.status_code == 404:\n",
    "            print(\"No such board\")\n",
    "            return\n",
    "        self.pageText = request.text\n",
    "        soup = BeautifulSoup(self.pageText, \"lxml\")\n",
    "        pageNext = soup.find(\"div\", \"btn-group btn-group-paging\").find_all(\"a\")[1].attrs[\"href\"]\n",
    "        if date == None:\n",
    "            date = datetime(2020, 2, 12) \n",
    "        pageText = self.pageText.split(\"r-list-sep\")[0]\n",
    "        soup = BeautifulSoup(pageText, \"lxml\")\n",
    "        for post in soup.select(\"div.r-ent\"):\n",
    "            url = post.find(\"div\", \"title\").a\n",
    "            if url == None:\n",
    "                continue\n",
    "            else:\n",
    "                url = post.find(\"div\", \"title\").a.attrs[\"href\"]\n",
    "            articleTxt = requests.get(Crawler.pttUrl + url, cookies = {\"over18\": \"1\"}).text\n",
    "            articleSoup = BeautifulSoup(articleTxt, \"lxml\")\n",
    "            title = articleSoup.find(\"title\").text  # 標題\n",
    "            content = articleSoup.find(\"meta\", property=\"og:description\").get(\"content\")  # 文章內容\n",
    "            if title == None or content == None:\n",
    "                continue\n",
    "            if keyword != None:\n",
    "                if title.find(keyword) < 0 and content.find(keyword) < 0:\n",
    "                    continue\n",
    "            print(Crawler.pttUrl + url)\n",
    "#             print(type(title))\n",
    "            self.contents.append(title + \":\" + content)\n",
    "#             self.contents.append(content)\n",
    "            push_list = []\n",
    "            for push in articleSoup.find_all(\"span\", class_=\"push-content\"):\n",
    "                if len(push.text[2:]) <= 0:\n",
    "                    continue\n",
    "                push_list.append(push.text[2:])  # 推文\n",
    "            self.contents.append(push_list)  \n",
    "            time_str = post.find(\"div\", \"date\").text.strip()\n",
    "            time_obj = datetime.strptime(time_str+\"/2020\", '%m/%d/%Y')\n",
    "            #if True:  # 一篇文章\n",
    "            if time_obj < date:  # 不是今天的文章\n",
    "                return\n",
    "        else:\n",
    "            if len(self.contents)/2 > num_posts:\n",
    "                return\n",
    "            print(pageNext)\n",
    "            self.getToday(date, pageNext, keyword, num_posts)\n",
    "            "
   ]
  },
  {
   "cell_type": "code",
   "execution_count": null,
   "id": "3a0551f1",
   "metadata": {},
   "outputs": [],
   "source": [
    "board = \"gossiping\"\n",
    "crawler = Crawler(board)\n",
    "crawler.getToday(num_posts=10)"
   ]
  },
  {
   "cell_type": "code",
   "execution_count": null,
   "id": "63a8ce40",
   "metadata": {},
   "outputs": [],
   "source": []
  }
 ],
 "metadata": {
  "kernelspec": {
   "display_name": "Python 3 (ipykernel)",
   "language": "python",
   "name": "python3"
  },
  "language_info": {
   "codemirror_mode": {
    "name": "ipython",
    "version": 3
   },
   "file_extension": ".py",
   "mimetype": "text/x-python",
   "name": "python",
   "nbconvert_exporter": "python",
   "pygments_lexer": "ipython3",
   "version": "3.9.13"
  }
 },
 "nbformat": 4,
 "nbformat_minor": 5
}
