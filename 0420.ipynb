{
 "cells": [
  {
   "cell_type": "code",
   "execution_count": 19,
   "id": "55541d5d",
   "metadata": {},
   "outputs": [
    {
     "name": "stdout",
     "output_type": "stream",
     "text": [
      "<Response [200]>\n"
     ]
    }
   ],
   "source": [
    "import requests as req\n",
    "#目標網站\n",
    "url = \"https://www.ptt.cc/bbs/miHoYo/search?q=%E7%A8%AE%E9%96%80\" \n",
    "#請求網站\n",
    "r = req.get(url)\n",
    "#檢查回應。如果是200則成功請求\n",
    "print(r)"
   ]
  },
  {
   "cell_type": "code",
   "execution_count": 26,
   "id": "6ee29634",
   "metadata": {},
   "outputs": [
    {
     "name": "stdout",
     "output_type": "stream",
     "text": [
      "[健檢] 新手推深淵 是種門太強了嗎\n",
      "https://www.ptt.cc/bbs/miHoYo/M.1681895838.A.1A8.html\n",
      "[閒聊] 心海種門角色優化\n",
      "https://www.ptt.cc/bbs/miHoYo/M.1677308886.A.C40.html\n",
      "[原神] 雙種門配隊？\n",
      "https://www.ptt.cc/bbs/miHoYo/M.1676601270.A.4CC.html\n",
      "[原神] 3.4深淵統計 恭迎種門教團\n",
      "https://www.ptt.cc/bbs/miHoYo/M.1675341552.A.80F.html\n"
     ]
    }
   ],
   "source": [
    "import bs4\n",
    "#透過BeautiFul整理且用html.parser解析\n",
    "root = bs4.BeautifulSoup(r.text,\"html.parser\")\n",
    "#找到所有屬性class = \"title\"\n",
    "ment = root.find_all(\"div\",class_=\"title\")\n",
    "#一個一個印出要的資料\n",
    "for title in ment:\n",
    " print(title.a.string)#取得文章標題\n",
    " print(\"https://www.ptt.cc\"+title.a.get(\"href\"))#取得文章連結"
   ]
  }
 ],
 "metadata": {
  "kernelspec": {
   "display_name": "Python 3 (ipykernel)",
   "language": "python",
   "name": "python3"
  },
  "language_info": {
   "codemirror_mode": {
    "name": "ipython",
    "version": 3
   },
   "file_extension": ".py",
   "mimetype": "text/x-python",
   "name": "python",
   "nbconvert_exporter": "python",
   "pygments_lexer": "ipython3",
   "version": "3.9.13"
  }
 },
 "nbformat": 4,
 "nbformat_minor": 5
}
